{
 "cells": [
  {
   "cell_type": "code",
   "execution_count": 2,
   "id": "3c7abcf7",
   "metadata": {},
   "outputs": [],
   "source": [
    "import pandas as pd\n",
    "import matplotlib.pyplot as plt\n",
    "import seaborn as sns"
   ]
  },
  {
   "cell_type": "code",
   "execution_count": 4,
   "id": "bd89945b",
   "metadata": {
    "scrolled": true
   },
   "outputs": [
    {
     "data": {
      "text/plain": [
       "Job Title              0\n",
       "Salary Estimate        2\n",
       "Job Description        0\n",
       "Rating                 0\n",
       "Company Name           0\n",
       "Location               0\n",
       "Size                   0\n",
       "Founded                0\n",
       "Type of ownership      0\n",
       "Industry               0\n",
       "Sector                 0\n",
       "Revenue                0\n",
       "per_hour               0\n",
       "employer_estimate      0\n",
       "glassdoor_estimate     0\n",
       "min_salary             0\n",
       "max_salary             0\n",
       "mean_salary            0\n",
       "job_state             18\n",
       "company_age            0\n",
       "python_skill           0\n",
       "spark_skill            0\n",
       "aws_skill              0\n",
       "excel_skill            0\n",
       "dtype: int64"
      ]
     },
     "execution_count": 4,
     "metadata": {},
     "output_type": "execute_result"
    }
   ],
   "source": [
    "df = pd.read_csv(\"data_cleaned.csv\")\n",
    "df.isna().sum()"
   ]
  },
  {
   "cell_type": "code",
   "execution_count": 11,
   "id": "ec61ee9c",
   "metadata": {},
   "outputs": [
    {
     "data": {
      "text/html": [
       "<div>\n",
       "<style scoped>\n",
       "    .dataframe tbody tr th:only-of-type {\n",
       "        vertical-align: middle;\n",
       "    }\n",
       "\n",
       "    .dataframe tbody tr th {\n",
       "        vertical-align: top;\n",
       "    }\n",
       "\n",
       "    .dataframe thead th {\n",
       "        text-align: right;\n",
       "    }\n",
       "</style>\n",
       "<table border=\"1\" class=\"dataframe\">\n",
       "  <thead>\n",
       "    <tr style=\"text-align: right;\">\n",
       "      <th></th>\n",
       "      <th>Job Title</th>\n",
       "      <th>Salary Estimate</th>\n",
       "      <th>Job Description</th>\n",
       "      <th>Rating</th>\n",
       "      <th>Company Name</th>\n",
       "      <th>Location</th>\n",
       "      <th>Size</th>\n",
       "      <th>Founded</th>\n",
       "      <th>Type of ownership</th>\n",
       "      <th>Industry</th>\n",
       "      <th>...</th>\n",
       "      <th>glassdoor_estimate</th>\n",
       "      <th>min_salary</th>\n",
       "      <th>max_salary</th>\n",
       "      <th>mean_salary</th>\n",
       "      <th>job_state</th>\n",
       "      <th>company_age</th>\n",
       "      <th>python_skill</th>\n",
       "      <th>spark_skill</th>\n",
       "      <th>aws_skill</th>\n",
       "      <th>excel_skill</th>\n",
       "    </tr>\n",
       "  </thead>\n",
       "  <tbody>\n",
       "    <tr>\n",
       "      <th>87</th>\n",
       "      <td>Machine Learning Earth Scientist</td>\n",
       "      <td>NaN</td>\n",
       "      <td>The Company\\nSofar is on a mission to connect ...</td>\n",
       "      <td>4.6</td>\n",
       "      <td>Sofar Ocean</td>\n",
       "      <td>San Francisco, CA</td>\n",
       "      <td>51 to 200 Employees</td>\n",
       "      <td>2016</td>\n",
       "      <td>Company - Private</td>\n",
       "      <td>Computer Hardware &amp; Software</td>\n",
       "      <td>...</td>\n",
       "      <td>0</td>\n",
       "      <td>0</td>\n",
       "      <td>0</td>\n",
       "      <td>0.0</td>\n",
       "      <td>CA</td>\n",
       "      <td>6</td>\n",
       "      <td>0</td>\n",
       "      <td>0</td>\n",
       "      <td>0</td>\n",
       "      <td>0</td>\n",
       "    </tr>\n",
       "    <tr>\n",
       "      <th>140</th>\n",
       "      <td>Machine Learning Earth Scientist</td>\n",
       "      <td>NaN</td>\n",
       "      <td>The Company\\nSofar is on a mission to connect ...</td>\n",
       "      <td>4.6</td>\n",
       "      <td>Sofar Ocean</td>\n",
       "      <td>San Francisco, CA</td>\n",
       "      <td>51 to 200 Employees</td>\n",
       "      <td>2016</td>\n",
       "      <td>Company - Private</td>\n",
       "      <td>Computer Hardware &amp; Software</td>\n",
       "      <td>...</td>\n",
       "      <td>0</td>\n",
       "      <td>0</td>\n",
       "      <td>0</td>\n",
       "      <td>0.0</td>\n",
       "      <td>CA</td>\n",
       "      <td>6</td>\n",
       "      <td>0</td>\n",
       "      <td>0</td>\n",
       "      <td>0</td>\n",
       "      <td>0</td>\n",
       "    </tr>\n",
       "  </tbody>\n",
       "</table>\n",
       "<p>2 rows × 24 columns</p>\n",
       "</div>"
      ],
      "text/plain": [
       "                            Job Title Salary Estimate  \\\n",
       "87   Machine Learning Earth Scientist             NaN   \n",
       "140  Machine Learning Earth Scientist             NaN   \n",
       "\n",
       "                                       Job Description  Rating Company Name  \\\n",
       "87   The Company\\nSofar is on a mission to connect ...     4.6  Sofar Ocean   \n",
       "140  The Company\\nSofar is on a mission to connect ...     4.6  Sofar Ocean   \n",
       "\n",
       "              Location                 Size Founded  Type of ownership  \\\n",
       "87   San Francisco, CA  51 to 200 Employees    2016  Company - Private   \n",
       "140  San Francisco, CA  51 to 200 Employees    2016  Company - Private   \n",
       "\n",
       "                         Industry  ... glassdoor_estimate min_salary  \\\n",
       "87   Computer Hardware & Software  ...                  0          0   \n",
       "140  Computer Hardware & Software  ...                  0          0   \n",
       "\n",
       "     max_salary  mean_salary  job_state  company_age  python_skill  \\\n",
       "87            0          0.0         CA            6             0   \n",
       "140           0          0.0         CA            6             0   \n",
       "\n",
       "     spark_skill aws_skill  excel_skill  \n",
       "87             0         0            0  \n",
       "140            0         0            0  \n",
       "\n",
       "[2 rows x 24 columns]"
      ]
     },
     "execution_count": 11,
     "metadata": {},
     "output_type": "execute_result"
    }
   ],
   "source": [
    "temp = df[df[\"Salary Estimate\"].isna() == True]\n",
    "\n",
    "df.columns\n",
    "\n"
   ]
  },
  {
   "cell_type": "code",
   "execution_count": null,
   "id": "da87df60",
   "metadata": {},
   "outputs": [],
   "source": [
    "#Define some categories based on Job Title info\n",
    "def job_split_categories(title):\n",
    "    \n",
    "    title = str(title)\n",
    "    \n",
    "    if \"data scientist\"   in title.lower(): return \"data scientist\"\n",
    "    if \"manager\"          in title.lower(): return \"manager\"\n",
    "    if \"engineer\"         in title.lower(): return \"engineer\"\n",
    "    if \"machine learning\" in title.lower(): return \"machine learning\"\n",
    "    if \"analyst\"          in title.lower(): return \"analyst\"\n",
    "    if \"director\"          in title.lower(): return \"director\"\n",
    "    \n",
    "    return 'na'\n",
    "\n",
    "\n",
    "\n",
    "def job_split_seniority(title):\n",
    "    \n",
    "    title = str(title)\n",
    "    \n",
    "    if  \"sr\" in title.lower() or \"senior\" in title.lower() or \"lead\" in title.lower() or \"principal\" in title.lower(): \n",
    "        \n",
    "        return \"senior\" \n",
    "       \n",
    "    if \"jr\" in title.lower() or \"junior\" in title.lower() :\n",
    "        \n",
    "        return \"junior\"\n",
    "           \n",
    "    return 'na'"
   ]
  },
  {
   "cell_type": "code",
   "execution_count": null,
   "id": "64e41428",
   "metadata": {},
   "outputs": [],
   "source": [
    "df[\"job_categories\"] = df[\"Job Title\"].apply(job_split_categories)\n",
    "\n",
    "df[\"job_seniority\"] = df[\"Job Title\"].apply(job_split_seniority)"
   ]
  },
  {
   "cell_type": "code",
   "execution_count": null,
   "id": "82f51de7",
   "metadata": {},
   "outputs": [],
   "source": [
    "df.job_seniority.value_counts()\n"
   ]
  },
  {
   "cell_type": "code",
   "execution_count": null,
   "id": "2ee406c4",
   "metadata": {},
   "outputs": [],
   "source": [
    "df.job_categories.value_counts()"
   ]
  },
  {
   "cell_type": "code",
   "execution_count": null,
   "id": "541e16f2",
   "metadata": {},
   "outputs": [],
   "source": [
    "df.job_state.unique().size"
   ]
  },
  {
   "cell_type": "code",
   "execution_count": null,
   "id": "b92c8d0a",
   "metadata": {},
   "outputs": [],
   "source": [
    "df.mean_salary.hist()"
   ]
  },
  {
   "cell_type": "code",
   "execution_count": null,
   "id": "2e06b54e",
   "metadata": {},
   "outputs": [],
   "source": [
    "#Job Description Length\n",
    "df[\"description_lenght\"] = df[\"Job Description\"].apply(lambda x: len(x))\n",
    "\n",
    "df[\"description_lenght\"]"
   ]
  },
  {
   "cell_type": "code",
   "execution_count": null,
   "id": "1c5e0c11",
   "metadata": {},
   "outputs": [],
   "source": [
    "#Hourly wage to annual salary\n",
    "df[\"min_salary\"]  = df.apply(lambda x: x.min_salary  * 2   if x.per_hour == 1 else x.min_salary, axis = 1 )\n",
    "df[\"max_salary\"]  = df.apply(lambda x: x.max_salary  * 2   if x.per_hour == 1 else x.max_salary, axis = 1 )\n",
    "df[\"mean_salary\"] = df.apply(lambda x: x.mean_salary * 2   if x.per_hour == 1 else x.mean_salary,axis = 1 )\n"
   ]
  },
  {
   "cell_type": "code",
   "execution_count": null,
   "id": "8fd5b12c",
   "metadata": {},
   "outputs": [],
   "source": [
    "df.min_salary"
   ]
  },
  {
   "cell_type": "code",
   "execution_count": null,
   "id": "6c30e6c4",
   "metadata": {},
   "outputs": [],
   "source": [
    "df[df.per_hour == 1][[\"min_salary\",\"max_salary\"]]"
   ]
  },
  {
   "cell_type": "code",
   "execution_count": null,
   "id": "944385f6",
   "metadata": {},
   "outputs": [],
   "source": [
    "df[\"Company Name\"]"
   ]
  },
  {
   "cell_type": "code",
   "execution_count": null,
   "id": "4dd0d745",
   "metadata": {},
   "outputs": [],
   "source": [
    "df.describe()"
   ]
  },
  {
   "cell_type": "code",
   "execution_count": null,
   "id": "b8f3b13e",
   "metadata": {},
   "outputs": [],
   "source": [
    "df.Rating.hist()"
   ]
  },
  {
   "cell_type": "code",
   "execution_count": null,
   "id": "067547b0",
   "metadata": {},
   "outputs": [],
   "source": [
    "df.mean_salary.hist()"
   ]
  },
  {
   "cell_type": "code",
   "execution_count": null,
   "id": "981dc052",
   "metadata": {},
   "outputs": [],
   "source": [
    "df.company_age.hist()"
   ]
  },
  {
   "cell_type": "code",
   "execution_count": null,
   "id": "2109a933",
   "metadata": {},
   "outputs": [],
   "source": [
    "df.boxplot(column = [\"mean_salary\",\"company_age\"] )"
   ]
  },
  {
   "cell_type": "code",
   "execution_count": null,
   "id": "1ceeb2d6",
   "metadata": {},
   "outputs": [],
   "source": [
    "df.boxplot(column = \"Rating\")"
   ]
  },
  {
   "cell_type": "code",
   "execution_count": null,
   "id": "fbbbb252",
   "metadata": {},
   "outputs": [],
   "source": [
    "corr_data = df[[\"company_age\",\"mean_salary\",\"Rating\",\"description_lenght\"]].corr()"
   ]
  },
  {
   "cell_type": "code",
   "execution_count": null,
   "id": "430d9689",
   "metadata": {},
   "outputs": [],
   "source": [
    " sns.heatmap(corr_data, cmap=\"YlGnBu\")"
   ]
  },
  {
   "cell_type": "code",
   "execution_count": null,
   "id": "eab5ef14",
   "metadata": {},
   "outputs": [],
   "source": [
    "df_categorical = df[['Location','job_state','Company Name','Type of ownership','Industry', \n",
    "                                                         'job_seniority','job_categories']]\n",
    "\n",
    "for i in df_categorical.columns:\n",
    "    column_values = df_categorical[i].value_counts()[:20]\n",
    "    print (\"Graph for %s - Num Categories: %d\" %(i, len(column_values)))\n",
    "    chart = sns.barplot(x = column_values.index, y = column_values)\n",
    "    chart.set_xticklabels(chart.get_xticklabels(),rotation = 90)\n",
    "    plt.show()\n",
    "    "
   ]
  },
  {
   "cell_type": "code",
   "execution_count": null,
   "id": "d68dd733",
   "metadata": {},
   "outputs": [],
   "source": [
    "pd.pivot_table(df, index = [\"job_categories\",\"job_seniority\"], values = \"mean_salary\")"
   ]
  },
  {
   "cell_type": "code",
   "execution_count": null,
   "id": "c0e76984",
   "metadata": {},
   "outputs": [],
   "source": [
    "pd.pivot_table(df, index = [\"job_state\"], values = \"mean_salary\").sort_values(\"mean_salary\", ascending = False)"
   ]
  },
  {
   "cell_type": "code",
   "execution_count": null,
   "id": "24dcecb7",
   "metadata": {},
   "outputs": [],
   "source": [
    "df_pivots = df[['Rating', 'Industry', 'Sector', 'Revenue', 'per_hour', 'python_skill', 'spark_skill', 'aws_skill', 'excel_skill', 'Type of ownership','mean_salary']]\n"
   ]
  },
  {
   "cell_type": "code",
   "execution_count": null,
   "id": "0c57f194",
   "metadata": {},
   "outputs": [],
   "source": [
    "for i in df_pivots.columns:\n",
    "    if i == \"mean_salary\":\n",
    "        break\n",
    "    print(pd.pivot_table(df_pivots,index =i, values = 'mean_salary').sort_values('mean_salary', ascending = False))"
   ]
  },
  {
   "cell_type": "code",
   "execution_count": null,
   "id": "7618e337",
   "metadata": {},
   "outputs": [],
   "source": [
    "df.to_csv(\"eda_output.csv\")"
   ]
  },
  {
   "cell_type": "code",
   "execution_count": null,
   "id": "2ed549ba",
   "metadata": {},
   "outputs": [],
   "source": []
  },
  {
   "cell_type": "code",
   "execution_count": null,
   "id": "d38c7055",
   "metadata": {},
   "outputs": [],
   "source": []
  }
 ],
 "metadata": {
  "kernelspec": {
   "display_name": "Python 3 (ipykernel)",
   "language": "python",
   "name": "python3"
  },
  "language_info": {
   "codemirror_mode": {
    "name": "ipython",
    "version": 3
   },
   "file_extension": ".py",
   "mimetype": "text/x-python",
   "name": "python",
   "nbconvert_exporter": "python",
   "pygments_lexer": "ipython3",
   "version": "3.9.7"
  }
 },
 "nbformat": 4,
 "nbformat_minor": 5
}
