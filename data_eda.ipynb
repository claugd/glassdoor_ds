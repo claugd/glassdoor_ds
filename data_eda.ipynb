{
 "cells": [
  {
   "cell_type": "code",
   "execution_count": 2,
   "id": "3c7abcf7",
   "metadata": {},
   "outputs": [],
   "source": [
    "import pandas as pd\n",
    "import matplotlib.pyplot as plt\n",
    "import seaborn as sns"
   ]
  },
  {
   "cell_type": "code",
   "execution_count": 3,
   "id": "bd89945b",
   "metadata": {},
   "outputs": [],
   "source": [
    "df = pd.read_csv(\"data_cleaned.csv\")"
   ]
  },
  {
   "cell_type": "code",
   "execution_count": 4,
   "id": "ec61ee9c",
   "metadata": {},
   "outputs": [
    {
     "data": {
      "text/plain": [
       "Index(['Job Title', 'Salary Estimate', 'Job Description', 'Rating',\n",
       "       'Company Name', 'Location', 'Size', 'Founded', 'Type of ownership',\n",
       "       'Industry', 'Sector', 'Revenue', 'per_hour', 'employer_estimate',\n",
       "       'glassdoor_estimate', 'min_salary', 'max_salary', 'mean_salary',\n",
       "       'job_state', 'company_age', 'python_skill', 'spark_skill', 'aws_skill',\n",
       "       'excel_skill'],\n",
       "      dtype='object')"
      ]
     },
     "execution_count": 4,
     "metadata": {},
     "output_type": "execute_result"
    }
   ],
   "source": [
    "df.columns"
   ]
  },
  {
   "cell_type": "code",
   "execution_count": 5,
   "id": "da87df60",
   "metadata": {},
   "outputs": [],
   "source": [
    "#Define some categories based on Job Title info\n",
    "def job_split_categories(title):\n",
    "    \n",
    "    title = str(title)\n",
    "    \n",
    "    if \"data scientist\"   in title.lower(): return \"data scientist\"\n",
    "    if \"manager\"          in title.lower(): return \"manager\"\n",
    "    if \"engineer\"         in title.lower(): return \"engineer\"\n",
    "    if \"machine learning\" in title.lower(): return \"mle\"\n",
    "    if \"analyst\"          in title.lower(): return \"analyst\"\n",
    "    \n",
    "    return 'na'\n",
    "\n",
    "\n",
    "\n",
    "def job_split_seniority(title):\n",
    "    \n",
    "    title = str(title)\n",
    "    \n",
    "    if  \"sr\" in title.lower() or \"senior\" in title.lower() or \"lead\" in title.lower() or \"principal\" in title.lower(): \n",
    "        \n",
    "        return \"senior\" \n",
    "       \n",
    "    if \"jr\" in title.lower() or \"junior\" in title.lower() :\n",
    "        \n",
    "        return \"junior\"\n",
    "           \n",
    "    return 'na'"
   ]
  },
  {
   "cell_type": "code",
   "execution_count": 6,
   "id": "64e41428",
   "metadata": {},
   "outputs": [],
   "source": [
    "df[\"job_categories\"] = df[\"Job Title\"].apply(job_split_categories)\n",
    "\n",
    "df[\"job_seniority\"] = df[\"Job Title\"].apply(job_split_seniority)"
   ]
  },
  {
   "cell_type": "code",
   "execution_count": 7,
   "id": "82f51de7",
   "metadata": {},
   "outputs": [
    {
     "data": {
      "text/plain": [
       "na        754\n",
       "senior     67\n",
       "junior     50\n",
       "Name: job_seniority, dtype: int64"
      ]
     },
     "execution_count": 7,
     "metadata": {},
     "output_type": "execute_result"
    }
   ],
   "source": [
    "df.job_seniority.value_counts()\n"
   ]
  },
  {
   "cell_type": "code",
   "execution_count": 8,
   "id": "2ee406c4",
   "metadata": {},
   "outputs": [
    {
     "data": {
      "text/plain": [
       "data scientist    602\n",
       "na                207\n",
       "mle                31\n",
       "engineer           30\n",
       "analyst             1\n",
       "Name: job_categories, dtype: int64"
      ]
     },
     "execution_count": 8,
     "metadata": {},
     "output_type": "execute_result"
    }
   ],
   "source": [
    "df.job_categories.value_counts()"
   ]
  },
  {
   "cell_type": "code",
   "execution_count": 9,
   "id": "541e16f2",
   "metadata": {},
   "outputs": [
    {
     "data": {
      "text/plain": [
       " CA    316\n",
       " NY    196\n",
       " WA     43\n",
       " CT     32\n",
       " UT     31\n",
       " TX     31\n",
       " MD     31\n",
       " NC     27\n",
       " TN     27\n",
       " PA     26\n",
       " IL     16\n",
       " MN     13\n",
       " NJ     12\n",
       " FL     10\n",
       " MA      5\n",
       " OK      5\n",
       " AZ      5\n",
       " OH      4\n",
       " WI      4\n",
       " IA      4\n",
       " OR      4\n",
       " VA      2\n",
       " IN      2\n",
       " MO      2\n",
       " MI      2\n",
       " DC      2\n",
       " PR      1\n",
       "Name: job_state, dtype: int64"
      ]
     },
     "execution_count": 9,
     "metadata": {},
     "output_type": "execute_result"
    }
   ],
   "source": [
    "df.job_state.value_counts()"
   ]
  },
  {
   "cell_type": "code",
   "execution_count": 11,
   "id": "b92c8d0a",
   "metadata": {},
   "outputs": [
    {
     "data": {
      "text/plain": [
       "<AxesSubplot:>"
      ]
     },
     "execution_count": 11,
     "metadata": {},
     "output_type": "execute_result"
    },
    {
     "data": {
      "image/png": "[encoded data removed]",
      "text/plain": [
       "<Figure size 432x288 with 1 Axes>"
      ]
     },
     "metadata": {
      "needs_background": "light"
     },
     "output_type": "display_data"
    }
   ],
   "source": [
    "df.mean_salary.hist()"
   ]
  },
  {
   "cell_type": "code",
   "execution_count": null,
   "id": "2e06b54e",
   "metadata": {},
   "outputs": [],
   "source": []
  }
 ],
 "metadata": {
  "kernelspec": {
   "display_name": "Python 3 (ipykernel)",
   "language": "python",
   "name": "python3"
  },
  "language_info": {
   "codemirror_mode": {
    "name": "ipython",
    "version": 3
   },
   "file_extension": ".py",
   "mimetype": "text/x-python",
   "name": "python",
   "nbconvert_exporter": "python",
   "pygments_lexer": "ipython3",
   "version": "3.9.7"
  }
 },
 "nbformat": 4,
 "nbformat_minor": 5
}
