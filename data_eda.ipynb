{
 "cells": [
  {
   "cell_type": "code",
   "execution_count": 62,
   "id": "3c7abcf7",
   "metadata": {},
   "outputs": [],
   "source": [
    "import pandas as pd\n",
    "import matplotlib.pyplot as plt\n",
    "import seaborn as sns"
   ]
  },
  {
   "cell_type": "code",
   "execution_count": 63,
   "id": "bd89945b",
   "metadata": {},
   "outputs": [],
   "source": [
    "df = pd.read_csv(\"data_cleaned.csv\")"
   ]
  },
  {
   "cell_type": "code",
   "execution_count": 64,
   "id": "ec61ee9c",
   "metadata": {},
   "outputs": [
    {
     "data": {
      "text/plain": [
       "Index(['Job Title', 'Salary Estimate', 'Job Description', 'Rating',\n",
       "       'Company Name', 'Location', 'Size', 'Founded', 'Type of ownership',\n",
       "       'Industry', 'Sector', 'Revenue', 'per_hour', 'employer_estimate',\n",
       "       'glassdoor_estimate', 'min_salary', 'max_salary', 'mean_salary',\n",
       "       'job_state', 'company_age', 'python_skill', 'spark_skill', 'aws_skill',\n",
       "       'excel_skill'],\n",
       "      dtype='object')"
      ]
     },
     "execution_count": 64,
     "metadata": {},
     "output_type": "execute_result"
    }
   ],
   "source": [
    "df.columns"
   ]
  },
  {
   "cell_type": "code",
   "execution_count": 65,
   "id": "da87df60",
   "metadata": {},
   "outputs": [],
   "source": [
    "#Define some categories based on Job Title info\n",
    "def job_split_categories(title):\n",
    "    \n",
    "    title = str(title)\n",
    "    \n",
    "    if \"data scientist\"   in title.lower(): return \"data scientist\"\n",
    "    if \"manager\"          in title.lower(): return \"manager\"\n",
    "    if \"engineer\"         in title.lower(): return \"engineer\"\n",
    "    if \"machine learning\" in title.lower(): return \"machine learning\"\n",
    "    if \"analyst\"          in title.lower(): return \"analyst\"\n",
    "    if \"director\"          in title.lower(): return \"director\"\n",
    "    \n",
    "    return 'na'\n",
    "\n",
    "\n",
    "\n",
    "def job_split_seniority(title):\n",
    "    \n",
    "    title = str(title)\n",
    "    \n",
    "    if  \"sr\" in title.lower() or \"senior\" in title.lower() or \"lead\" in title.lower() or \"principal\" in title.lower(): \n",
    "        \n",
    "        return \"senior\" \n",
    "       \n",
    "    if \"jr\" in title.lower() or \"junior\" in title.lower() :\n",
    "        \n",
    "        return \"junior\"\n",
    "           \n",
    "    return 'na'"
   ]
  },
  {
   "cell_type": "code",
   "execution_count": 66,
   "id": "64e41428",
   "metadata": {},
   "outputs": [],
   "source": [
    "df[\"job_categories\"] = df[\"Job Title\"].apply(job_split_categories)\n",
    "\n",
    "df[\"job_seniority\"] = df[\"Job Title\"].apply(job_split_seniority)"
   ]
  },
  {
   "cell_type": "code",
   "execution_count": 67,
   "id": "82f51de7",
   "metadata": {},
   "outputs": [
    {
     "data": {
      "text/plain": [
       "na        754\n",
       "senior     67\n",
       "junior     50\n",
       "Name: job_seniority, dtype: int64"
      ]
     },
     "execution_count": 67,
     "metadata": {},
     "output_type": "execute_result"
    }
   ],
   "source": [
    "df.job_seniority.value_counts()\n"
   ]
  },
  {
   "cell_type": "code",
   "execution_count": 68,
   "id": "2ee406c4",
   "metadata": {},
   "outputs": [
    {
     "data": {
      "text/plain": [
       "data scientist      602\n",
       "na                  207\n",
       "machine learning     31\n",
       "engineer             30\n",
       "analyst               1\n",
       "Name: job_categories, dtype: int64"
      ]
     },
     "execution_count": 68,
     "metadata": {},
     "output_type": "execute_result"
    }
   ],
   "source": [
    "df.job_categories.value_counts()"
   ]
  },
  {
   "cell_type": "code",
   "execution_count": 69,
   "id": "541e16f2",
   "metadata": {},
   "outputs": [
    {
     "data": {
      "text/plain": [
       "28"
      ]
     },
     "execution_count": 69,
     "metadata": {},
     "output_type": "execute_result"
    }
   ],
   "source": [
    "df.job_state.unique().size"
   ]
  },
  {
   "cell_type": "code",
   "execution_count": 70,
   "id": "b92c8d0a",
   "metadata": {},
   "outputs": [
    {
     "data": {
      "text/plain": [
       "<AxesSubplot:>"
      ]
     },
     "execution_count": 70,
     "metadata": {},
     "output_type": "execute_result"
    },
    {
     "data": {
      "image/png": "[encoded data removed]",
      "text/plain": [
       "<Figure size 432x288 with 1 Axes>"
      ]
     },
     "metadata": {
      "needs_background": "light"
     },
     "output_type": "display_data"
    }
   ],
   "source": [
    "df.mean_salary.hist()"
   ]
  },
  {
   "cell_type": "code",
   "execution_count": 71,
   "id": "2e06b54e",
   "metadata": {},
   "outputs": [
    {
     "data": {
      "text/plain": [
       "0      697\n",
       "1      807\n",
       "2      938\n",
       "3      858\n",
       "4      318\n",
       "      ... \n",
       "866      2\n",
       "867      2\n",
       "868      2\n",
       "869      2\n",
       "870      2\n",
       "Name: description_lenght, Length: 871, dtype: int64"
      ]
     },
     "execution_count": 71,
     "metadata": {},
     "output_type": "execute_result"
    }
   ],
   "source": [
    "#Job Description Length\n",
    "df[\"description_lenght\"] = df[\"Job Description\"].apply(lambda x: len(x))\n",
    "\n",
    "df[\"description_lenght\"]"
   ]
  },
  {
   "cell_type": "code",
   "execution_count": 72,
   "id": "1c5e0c11",
   "metadata": {},
   "outputs": [],
   "source": [
    "#Hourly wage to annual salary\n",
    "df[\"min_salary\"]  = df.apply(lambda x: x.min_salary  * 2   if x.per_hour == 1 else x.min_salary, axis = 1 )\n",
    "df[\"max_salary\"]  = df.apply(lambda x: x.max_salary  * 2   if x.per_hour == 1 else x.max_salary, axis = 1 )\n",
    "df[\"mean_salary\"] = df.apply(lambda x: x.mean_salary * 2   if x.per_hour == 1 else x.mean_salary,axis = 1 )\n"
   ]
  },
  {
   "cell_type": "code",
   "execution_count": 73,
   "id": "8fd5b12c",
   "metadata": {},
   "outputs": [
    {
     "data": {
      "text/plain": [
       "0       81\n",
       "1       52\n",
       "2       54\n",
       "3       75\n",
       "4      102\n",
       "      ... \n",
       "866     61\n",
       "867     96\n",
       "868     98\n",
       "869     52\n",
       "870     68\n",
       "Name: min_salary, Length: 871, dtype: int64"
      ]
     },
     "execution_count": 73,
     "metadata": {},
     "output_type": "execute_result"
    }
   ],
   "source": [
    "df.min_salary"
   ]
  },
  {
   "cell_type": "code",
   "execution_count": 74,
   "id": "6c30e6c4",
   "metadata": {},
   "outputs": [
    {
     "data": {
      "text/html": [
       "<div>\n",
       "<style scoped>\n",
       "    .dataframe tbody tr th:only-of-type {\n",
       "        vertical-align: middle;\n",
       "    }\n",
       "\n",
       "    .dataframe tbody tr th {\n",
       "        vertical-align: top;\n",
       "    }\n",
       "\n",
       "    .dataframe thead th {\n",
       "        text-align: right;\n",
       "    }\n",
       "</style>\n",
       "<table border=\"1\" class=\"dataframe\">\n",
       "  <thead>\n",
       "    <tr style=\"text-align: right;\">\n",
       "      <th></th>\n",
       "      <th>min_salary</th>\n",
       "      <th>max_salary</th>\n",
       "    </tr>\n",
       "  </thead>\n",
       "  <tbody>\n",
       "    <tr>\n",
       "      <th>8</th>\n",
       "      <td>80</td>\n",
       "      <td>120</td>\n",
       "    </tr>\n",
       "    <tr>\n",
       "      <th>25</th>\n",
       "      <td>100</td>\n",
       "      <td>100</td>\n",
       "    </tr>\n",
       "    <tr>\n",
       "      <th>28</th>\n",
       "      <td>90</td>\n",
       "      <td>100</td>\n",
       "    </tr>\n",
       "    <tr>\n",
       "      <th>43</th>\n",
       "      <td>36</td>\n",
       "      <td>50</td>\n",
       "    </tr>\n",
       "    <tr>\n",
       "      <th>82</th>\n",
       "      <td>90</td>\n",
       "      <td>136</td>\n",
       "    </tr>\n",
       "    <tr>\n",
       "      <th>247</th>\n",
       "      <td>80</td>\n",
       "      <td>120</td>\n",
       "    </tr>\n",
       "    <tr>\n",
       "      <th>265</th>\n",
       "      <td>100</td>\n",
       "      <td>100</td>\n",
       "    </tr>\n",
       "    <tr>\n",
       "      <th>267</th>\n",
       "      <td>90</td>\n",
       "      <td>100</td>\n",
       "    </tr>\n",
       "    <tr>\n",
       "      <th>366</th>\n",
       "      <td>80</td>\n",
       "      <td>120</td>\n",
       "    </tr>\n",
       "    <tr>\n",
       "      <th>387</th>\n",
       "      <td>80</td>\n",
       "      <td>120</td>\n",
       "    </tr>\n",
       "    <tr>\n",
       "      <th>404</th>\n",
       "      <td>80</td>\n",
       "      <td>120</td>\n",
       "    </tr>\n",
       "    <tr>\n",
       "      <th>431</th>\n",
       "      <td>80</td>\n",
       "      <td>120</td>\n",
       "    </tr>\n",
       "    <tr>\n",
       "      <th>454</th>\n",
       "      <td>80</td>\n",
       "      <td>120</td>\n",
       "    </tr>\n",
       "    <tr>\n",
       "      <th>485</th>\n",
       "      <td>80</td>\n",
       "      <td>120</td>\n",
       "    </tr>\n",
       "    <tr>\n",
       "      <th>507</th>\n",
       "      <td>80</td>\n",
       "      <td>120</td>\n",
       "    </tr>\n",
       "    <tr>\n",
       "      <th>540</th>\n",
       "      <td>80</td>\n",
       "      <td>120</td>\n",
       "    </tr>\n",
       "    <tr>\n",
       "      <th>566</th>\n",
       "      <td>80</td>\n",
       "      <td>120</td>\n",
       "    </tr>\n",
       "    <tr>\n",
       "      <th>592</th>\n",
       "      <td>80</td>\n",
       "      <td>120</td>\n",
       "    </tr>\n",
       "    <tr>\n",
       "      <th>618</th>\n",
       "      <td>80</td>\n",
       "      <td>120</td>\n",
       "    </tr>\n",
       "    <tr>\n",
       "      <th>644</th>\n",
       "      <td>80</td>\n",
       "      <td>120</td>\n",
       "    </tr>\n",
       "    <tr>\n",
       "      <th>670</th>\n",
       "      <td>80</td>\n",
       "      <td>120</td>\n",
       "    </tr>\n",
       "    <tr>\n",
       "      <th>696</th>\n",
       "      <td>80</td>\n",
       "      <td>120</td>\n",
       "    </tr>\n",
       "    <tr>\n",
       "      <th>722</th>\n",
       "      <td>80</td>\n",
       "      <td>120</td>\n",
       "    </tr>\n",
       "    <tr>\n",
       "      <th>748</th>\n",
       "      <td>80</td>\n",
       "      <td>120</td>\n",
       "    </tr>\n",
       "    <tr>\n",
       "      <th>774</th>\n",
       "      <td>80</td>\n",
       "      <td>120</td>\n",
       "    </tr>\n",
       "    <tr>\n",
       "      <th>800</th>\n",
       "      <td>80</td>\n",
       "      <td>120</td>\n",
       "    </tr>\n",
       "    <tr>\n",
       "      <th>826</th>\n",
       "      <td>80</td>\n",
       "      <td>120</td>\n",
       "    </tr>\n",
       "    <tr>\n",
       "      <th>852</th>\n",
       "      <td>80</td>\n",
       "      <td>120</td>\n",
       "    </tr>\n",
       "  </tbody>\n",
       "</table>\n",
       "</div>"
      ],
      "text/plain": [
       "     min_salary  max_salary\n",
       "8            80         120\n",
       "25          100         100\n",
       "28           90         100\n",
       "43           36          50\n",
       "82           90         136\n",
       "247          80         120\n",
       "265         100         100\n",
       "267          90         100\n",
       "366          80         120\n",
       "387          80         120\n",
       "404          80         120\n",
       "431          80         120\n",
       "454          80         120\n",
       "485          80         120\n",
       "507          80         120\n",
       "540          80         120\n",
       "566          80         120\n",
       "592          80         120\n",
       "618          80         120\n",
       "644          80         120\n",
       "670          80         120\n",
       "696          80         120\n",
       "722          80         120\n",
       "748          80         120\n",
       "774          80         120\n",
       "800          80         120\n",
       "826          80         120\n",
       "852          80         120"
      ]
     },
     "execution_count": 74,
     "metadata": {},
     "output_type": "execute_result"
    }
   ],
   "source": [
    "df[df.per_hour == 1][[\"min_salary\",\"max_salary\"]]"
   ]
  },
  {
   "cell_type": "code",
   "execution_count": 75,
   "id": "944385f6",
   "metadata": {},
   "outputs": [
    {
     "data": {
      "text/plain": [
       "0                              FullStory\n",
       "1            California State University\n",
       "2                              pulseData\n",
       "3                              ClimateAI\n",
       "4                        City of Chicago\n",
       "                     ...                \n",
       "866                                 ESPN\n",
       "867                                Tesla\n",
       "868                                Adobe\n",
       "869      Zoom Video Communications, Inc.\n",
       "870    Electric Power Research Institute\n",
       "Name: Company Name, Length: 871, dtype: object"
      ]
     },
     "execution_count": 75,
     "metadata": {},
     "output_type": "execute_result"
    }
   ],
   "source": [
    "df[\"Company Name\"]"
   ]
  },
  {
   "cell_type": "code",
   "execution_count": 76,
   "id": "4dd0d745",
   "metadata": {},
   "outputs": [
    {
     "data": {
      "text/html": [
       "<div>\n",
       "<style scoped>\n",
       "    .dataframe tbody tr th:only-of-type {\n",
       "        vertical-align: middle;\n",
       "    }\n",
       "\n",
       "    .dataframe tbody tr th {\n",
       "        vertical-align: top;\n",
       "    }\n",
       "\n",
       "    .dataframe thead th {\n",
       "        text-align: right;\n",
       "    }\n",
       "</style>\n",
       "<table border=\"1\" class=\"dataframe\">\n",
       "  <thead>\n",
       "    <tr style=\"text-align: right;\">\n",
       "      <th></th>\n",
       "      <th>Rating</th>\n",
       "      <th>per_hour</th>\n",
       "      <th>employer_estimate</th>\n",
       "      <th>glassdoor_estimate</th>\n",
       "      <th>min_salary</th>\n",
       "      <th>max_salary</th>\n",
       "      <th>mean_salary</th>\n",
       "      <th>company_age</th>\n",
       "      <th>python_skill</th>\n",
       "      <th>spark_skill</th>\n",
       "      <th>aws_skill</th>\n",
       "      <th>excel_skill</th>\n",
       "      <th>description_lenght</th>\n",
       "    </tr>\n",
       "  </thead>\n",
       "  <tbody>\n",
       "    <tr>\n",
       "      <th>count</th>\n",
       "      <td>859.000000</td>\n",
       "      <td>871.000000</td>\n",
       "      <td>871.000000</td>\n",
       "      <td>871.000000</td>\n",
       "      <td>871.000000</td>\n",
       "      <td>871.000000</td>\n",
       "      <td>871.000000</td>\n",
       "      <td>871.000000</td>\n",
       "      <td>871.000000</td>\n",
       "      <td>871.000000</td>\n",
       "      <td>871.000000</td>\n",
       "      <td>871.000000</td>\n",
       "      <td>871.000000</td>\n",
       "    </tr>\n",
       "    <tr>\n",
       "      <th>mean</th>\n",
       "      <td>3.959837</td>\n",
       "      <td>0.032147</td>\n",
       "      <td>0.203215</td>\n",
       "      <td>0.794489</td>\n",
       "      <td>75.753157</td>\n",
       "      <td>142.944891</td>\n",
       "      <td>109.349024</td>\n",
       "      <td>31.748565</td>\n",
       "      <td>0.068886</td>\n",
       "      <td>0.004592</td>\n",
       "      <td>0.008037</td>\n",
       "      <td>0.051665</td>\n",
       "      <td>741.566016</td>\n",
       "    </tr>\n",
       "    <tr>\n",
       "      <th>std</th>\n",
       "      <td>0.738947</td>\n",
       "      <td>0.176492</td>\n",
       "      <td>0.402622</td>\n",
       "      <td>0.404307</td>\n",
       "      <td>23.222560</td>\n",
       "      <td>43.632285</td>\n",
       "      <td>31.553811</td>\n",
       "      <td>51.708866</td>\n",
       "      <td>0.253406</td>\n",
       "      <td>0.067650</td>\n",
       "      <td>0.089338</td>\n",
       "      <td>0.221476</td>\n",
       "      <td>1024.522727</td>\n",
       "    </tr>\n",
       "    <tr>\n",
       "      <th>min</th>\n",
       "      <td>-1.000000</td>\n",
       "      <td>0.000000</td>\n",
       "      <td>0.000000</td>\n",
       "      <td>0.000000</td>\n",
       "      <td>0.000000</td>\n",
       "      <td>0.000000</td>\n",
       "      <td>0.000000</td>\n",
       "      <td>-1.000000</td>\n",
       "      <td>0.000000</td>\n",
       "      <td>0.000000</td>\n",
       "      <td>0.000000</td>\n",
       "      <td>0.000000</td>\n",
       "      <td>2.000000</td>\n",
       "    </tr>\n",
       "    <tr>\n",
       "      <th>25%</th>\n",
       "      <td>3.800000</td>\n",
       "      <td>0.000000</td>\n",
       "      <td>0.000000</td>\n",
       "      <td>1.000000</td>\n",
       "      <td>61.000000</td>\n",
       "      <td>118.000000</td>\n",
       "      <td>91.500000</td>\n",
       "      <td>-1.000000</td>\n",
       "      <td>0.000000</td>\n",
       "      <td>0.000000</td>\n",
       "      <td>0.000000</td>\n",
       "      <td>0.000000</td>\n",
       "      <td>2.000000</td>\n",
       "    </tr>\n",
       "    <tr>\n",
       "      <th>50%</th>\n",
       "      <td>4.100000</td>\n",
       "      <td>0.000000</td>\n",
       "      <td>0.000000</td>\n",
       "      <td>1.000000</td>\n",
       "      <td>79.000000</td>\n",
       "      <td>139.000000</td>\n",
       "      <td>107.000000</td>\n",
       "      <td>4.000000</td>\n",
       "      <td>0.000000</td>\n",
       "      <td>0.000000</td>\n",
       "      <td>0.000000</td>\n",
       "      <td>0.000000</td>\n",
       "      <td>524.000000</td>\n",
       "    </tr>\n",
       "    <tr>\n",
       "      <th>75%</th>\n",
       "      <td>4.300000</td>\n",
       "      <td>0.000000</td>\n",
       "      <td>0.000000</td>\n",
       "      <td>1.000000</td>\n",
       "      <td>92.000000</td>\n",
       "      <td>173.000000</td>\n",
       "      <td>130.500000</td>\n",
       "      <td>37.000000</td>\n",
       "      <td>0.000000</td>\n",
       "      <td>0.000000</td>\n",
       "      <td>0.000000</td>\n",
       "      <td>0.000000</td>\n",
       "      <td>1017.000000</td>\n",
       "    </tr>\n",
       "    <tr>\n",
       "      <th>max</th>\n",
       "      <td>5.000000</td>\n",
       "      <td>1.000000</td>\n",
       "      <td>1.000000</td>\n",
       "      <td>1.000000</td>\n",
       "      <td>336.000000</td>\n",
       "      <td>384.000000</td>\n",
       "      <td>360.000000</td>\n",
       "      <td>234.000000</td>\n",
       "      <td>1.000000</td>\n",
       "      <td>1.000000</td>\n",
       "      <td>1.000000</td>\n",
       "      <td>1.000000</td>\n",
       "      <td>5794.000000</td>\n",
       "    </tr>\n",
       "  </tbody>\n",
       "</table>\n",
       "</div>"
      ],
      "text/plain": [
       "           Rating    per_hour  employer_estimate  glassdoor_estimate  \\\n",
       "count  859.000000  871.000000         871.000000          871.000000   \n",
       "mean     3.959837    0.032147           0.203215            0.794489   \n",
       "std      0.738947    0.176492           0.402622            0.404307   \n",
       "min     -1.000000    0.000000           0.000000            0.000000   \n",
       "25%      3.800000    0.000000           0.000000            1.000000   \n",
       "50%      4.100000    0.000000           0.000000            1.000000   \n",
       "75%      4.300000    0.000000           0.000000            1.000000   \n",
       "max      5.000000    1.000000           1.000000            1.000000   \n",
       "\n",
       "       min_salary  max_salary  mean_salary  company_age  python_skill  \\\n",
       "count  871.000000  871.000000   871.000000   871.000000    871.000000   \n",
       "mean    75.753157  142.944891   109.349024    31.748565      0.068886   \n",
       "std     23.222560   43.632285    31.553811    51.708866      0.253406   \n",
       "min      0.000000    0.000000     0.000000    -1.000000      0.000000   \n",
       "25%     61.000000  118.000000    91.500000    -1.000000      0.000000   \n",
       "50%     79.000000  139.000000   107.000000     4.000000      0.000000   \n",
       "75%     92.000000  173.000000   130.500000    37.000000      0.000000   \n",
       "max    336.000000  384.000000   360.000000   234.000000      1.000000   \n",
       "\n",
       "       spark_skill   aws_skill  excel_skill  description_lenght  \n",
       "count   871.000000  871.000000   871.000000          871.000000  \n",
       "mean      0.004592    0.008037     0.051665          741.566016  \n",
       "std       0.067650    0.089338     0.221476         1024.522727  \n",
       "min       0.000000    0.000000     0.000000            2.000000  \n",
       "25%       0.000000    0.000000     0.000000            2.000000  \n",
       "50%       0.000000    0.000000     0.000000          524.000000  \n",
       "75%       0.000000    0.000000     0.000000         1017.000000  \n",
       "max       1.000000    1.000000     1.000000         5794.000000  "
      ]
     },
     "execution_count": 76,
     "metadata": {},
     "output_type": "execute_result"
    }
   ],
   "source": [
    "df.describe()"
   ]
  },
  {
   "cell_type": "code",
   "execution_count": 77,
   "id": "b8f3b13e",
   "metadata": {},
   "outputs": [
    {
     "data": {
      "text/plain": [
       "<AxesSubplot:>"
      ]
     },
     "execution_count": 77,
     "metadata": {},
     "output_type": "execute_result"
    },
    {
     "data": {
      "image/png": "[encoded data removed]",
      "text/plain": [
       "<Figure size 432x288 with 1 Axes>"
      ]
     },
     "metadata": {
      "needs_background": "light"
     },
     "output_type": "display_data"
    }
   ],
   "source": [
    "df.Rating.hist()"
   ]
  },
  {
   "cell_type": "code",
   "execution_count": 78,
   "id": "067547b0",
   "metadata": {},
   "outputs": [
    {
     "data": {
      "text/plain": [
       "<AxesSubplot:>"
      ]
     },
     "execution_count": 78,
     "metadata": {},
     "output_type": "execute_result"
    },
    {
     "data": {
      "image/png": "[encoded data removed]",
      "text/plain": [
       "<Figure size 432x288 with 1 Axes>"
      ]
     },
     "metadata": {
      "needs_background": "light"
     },
     "output_type": "display_data"
    }
   ],
   "source": [
    "df.mean_salary.hist()"
   ]
  },
  {
   "cell_type": "code",
   "execution_count": 79,
   "id": "981dc052",
   "metadata": {},
   "outputs": [
    {
     "data": {
      "text/plain": [
       "<AxesSubplot:>"
      ]
     },
     "execution_count": 79,
     "metadata": {},
     "output_type": "execute_result"
    },
    {
     "data": {
      "image/png": "[encoded data removed]",
      "text/plain": [
       "<Figure size 432x288 with 1 Axes>"
      ]
     },
     "metadata": {
      "needs_background": "light"
     },
     "output_type": "display_data"
    }
   ],
   "source": [
    "df.company_age.hist()"
   ]
  },
  {
   "cell_type": "code",
   "execution_count": 80,
   "id": "2109a933",
   "metadata": {},
   "outputs": [
    {
     "data": {
      "text/plain": [
       "<AxesSubplot:>"
      ]
     },
     "execution_count": 80,
     "metadata": {},
     "output_type": "execute_result"
    },
    {
     "data": {
      "image/png": "[encoded data removed]",
      "text/plain": [
       "<Figure size 432x288 with 1 Axes>"
      ]
     },
     "metadata": {
      "needs_background": "light"
     },
     "output_type": "display_data"
    }
   ],
   "source": [
    "df.boxplot(column = [\"mean_salary\",\"company_age\"] )"
   ]
  },
  {
   "cell_type": "code",
   "execution_count": 81,
   "id": "1ceeb2d6",
   "metadata": {},
   "outputs": [
    {
     "data": {
      "text/plain": [
       "<AxesSubplot:>"
      ]
     },
     "execution_count": 81,
     "metadata": {},
     "output_type": "execute_result"
    },
    {
     "data": {
      "image/png": "[encoded data removed]",
      "text/plain": [
       "<Figure size 432x288 with 1 Axes>"
      ]
     },
     "metadata": {
      "needs_background": "light"
     },
     "output_type": "display_data"
    }
   ],
   "source": [
    "df.boxplot(column = \"Rating\")"
   ]
  },
  {
   "cell_type": "code",
   "execution_count": 82,
   "id": "fbbbb252",
   "metadata": {},
   "outputs": [],
   "source": [
    "corr_data = df[[\"company_age\",\"mean_salary\",\"Rating\",\"description_lenght\"]].corr()"
   ]
  },
  {
   "cell_type": "code",
   "execution_count": 83,
   "id": "430d9689",
   "metadata": {},
   "outputs": [
    {
     "data": {
      "text/plain": [
       "<AxesSubplot:>"
      ]
     },
     "execution_count": 83,
     "metadata": {},
     "output_type": "execute_result"
    },
    {
     "data": {
      "image/png": "[encoded data removed]",
      "text/plain": [
       "<Figure size 432x288 with 2 Axes>"
      ]
     },
     "metadata": {
      "needs_background": "light"
     },
     "output_type": "display_data"
    }
   ],
   "source": [
    " sns.heatmap(corr_data, cmap=\"YlGnBu\")"
   ]
  },
  {
   "cell_type": "code",
   "execution_count": 84,
   "id": "eab5ef14",
   "metadata": {},
   "outputs": [
    {
     "name": "stdout",
     "output_type": "stream",
     "text": [
      "Graph for Location - Num Categories: 20\n"
     ]
    },
    {
     "data": {
      "image/png": "[encoded data removed]",
      "text/plain": [
       "<Figure size 432x288 with 1 Axes>"
      ]
     },
     "metadata": {
      "needs_background": "light"
     },
     "output_type": "display_data"
    },
    {
     "name": "stdout",
     "output_type": "stream",
     "text": [
      "Graph for job_state - Num Categories: 20\n"
     ]
    },
    {
     "data": {
      "image/png": "[encoded data removed]",
      "text/plain": [
       "<Figure size 432x288 with 1 Axes>"
      ]
     },
     "metadata": {
      "needs_background": "light"
     },
     "output_type": "display_data"
    },
    {
     "name": "stdout",
     "output_type": "stream",
     "text": [
      "Graph for Company Name - Num Categories: 20\n"
     ]
    },
    {
     "data": {
      "image/png": "[encoded data removed]",
      "text/plain": [
       "<Figure size 432x288 with 1 Axes>"
      ]
     },
     "metadata": {
      "needs_background": "light"
     },
     "output_type": "display_data"
    },
    {
     "name": "stdout",
     "output_type": "stream",
     "text": [
      "Graph for Type of ownership - Num Categories: 13\n"
     ]
    },
    {
     "data": {
      "image/png": "[encoded data removed]",
      "text/plain": [
       "<Figure size 432x288 with 1 Axes>"
      ]
     },
     "metadata": {
      "needs_background": "light"
     },
     "output_type": "display_data"
    },
    {
     "name": "stdout",
     "output_type": "stream",
     "text": [
      "Graph for Industry - Num Categories: 20\n"
     ]
    },
    {
     "data": {
      "image/png": "[encoded data removed]",
      "text/plain": [
       "<Figure size 432x288 with 1 Axes>"
      ]
     },
     "metadata": {
      "needs_background": "light"
     },
     "output_type": "display_data"
    },
    {
     "name": "stdout",
     "output_type": "stream",
     "text": [
      "Graph for job_seniority - Num Categories: 3\n"
     ]
    },
    {
     "data": {
      "image/png": "[encoded data removed]",
      "text/plain": [
       "<Figure size 432x288 with 1 Axes>"
      ]
     },
     "metadata": {
      "needs_background": "light"
     },
     "output_type": "display_data"
    },
    {
     "name": "stdout",
     "output_type": "stream",
     "text": [
      "Graph for job_categories - Num Categories: 5\n"
     ]
    },
    {
     "data": {
      "image/png": "[encoded data removed]",
      "text/plain": [
       "<Figure size 432x288 with 1 Axes>"
      ]
     },
     "metadata": {
      "needs_background": "light"
     },
     "output_type": "display_data"
    }
   ],
   "source": [
    "df_categorical = df[['Location','job_state','Company Name','Type of ownership','Industry', \n",
    "                                                         'job_seniority','job_categories']]\n",
    "\n",
    "for i in df_categorical.columns:\n",
    "    column_values = df_categorical[i].value_counts()[:20]\n",
    "    print (\"Graph for %s - Num Categories: %d\" %(i, len(column_values)))\n",
    "    chart = sns.barplot(x = column_values.index, y = column_values)\n",
    "    chart.set_xticklabels(chart.get_xticklabels(),rotation = 90)\n",
    "    plt.show()\n",
    "    "
   ]
  },
  {
   "cell_type": "code",
   "execution_count": 61,
   "id": "d68dd733",
   "metadata": {},
   "outputs": [
    {
     "data": {
      "text/html": [
       "<div>\n",
       "<style scoped>\n",
       "    .dataframe tbody tr th:only-of-type {\n",
       "        vertical-align: middle;\n",
       "    }\n",
       "\n",
       "    .dataframe tbody tr th {\n",
       "        vertical-align: top;\n",
       "    }\n",
       "\n",
       "    .dataframe thead th {\n",
       "        text-align: right;\n",
       "    }\n",
       "</style>\n",
       "<table border=\"1\" class=\"dataframe\">\n",
       "  <thead>\n",
       "    <tr style=\"text-align: right;\">\n",
       "      <th></th>\n",
       "      <th></th>\n",
       "      <th>mean_salary</th>\n",
       "    </tr>\n",
       "    <tr>\n",
       "      <th>job_categories</th>\n",
       "      <th>job_seniority</th>\n",
       "      <th></th>\n",
       "    </tr>\n",
       "  </thead>\n",
       "  <tbody>\n",
       "    <tr>\n",
       "      <th>analyst</th>\n",
       "      <th>na</th>\n",
       "      <td>43.000000</td>\n",
       "    </tr>\n",
       "    <tr>\n",
       "      <th rowspan=\"3\" valign=\"top\">data scientist</th>\n",
       "      <th>junior</th>\n",
       "      <td>103.270000</td>\n",
       "    </tr>\n",
       "    <tr>\n",
       "      <th>na</th>\n",
       "      <td>109.441237</td>\n",
       "    </tr>\n",
       "    <tr>\n",
       "      <th>senior</th>\n",
       "      <td>139.947761</td>\n",
       "    </tr>\n",
       "    <tr>\n",
       "      <th>engineer</th>\n",
       "      <th>na</th>\n",
       "      <td>151.700000</td>\n",
       "    </tr>\n",
       "    <tr>\n",
       "      <th>mle</th>\n",
       "      <th>na</th>\n",
       "      <td>134.193548</td>\n",
       "    </tr>\n",
       "    <tr>\n",
       "      <th>na</th>\n",
       "      <th>na</th>\n",
       "      <td>91.159420</td>\n",
       "    </tr>\n",
       "  </tbody>\n",
       "</table>\n",
       "</div>"
      ],
      "text/plain": [
       "                              mean_salary\n",
       "job_categories job_seniority             \n",
       "analyst        na               43.000000\n",
       "data scientist junior          103.270000\n",
       "               na              109.441237\n",
       "               senior          139.947761\n",
       "engineer       na              151.700000\n",
       "mle            na              134.193548\n",
       "na             na               91.159420"
      ]
     },
     "execution_count": 61,
     "metadata": {},
     "output_type": "execute_result"
    }
   ],
   "source": [
    "pd.pivot_table(df, index = [\"job_categories\",\"job_seniority\"], values = \"mean_salary\")"
   ]
  },
  {
   "cell_type": "code",
   "execution_count": 87,
   "id": "c0e76984",
   "metadata": {},
   "outputs": [
    {
     "data": {
      "text/html": [
       "<div>\n",
       "<style scoped>\n",
       "    .dataframe tbody tr th:only-of-type {\n",
       "        vertical-align: middle;\n",
       "    }\n",
       "\n",
       "    .dataframe tbody tr th {\n",
       "        vertical-align: top;\n",
       "    }\n",
       "\n",
       "    .dataframe thead th {\n",
       "        text-align: right;\n",
       "    }\n",
       "</style>\n",
       "<table border=\"1\" class=\"dataframe\">\n",
       "  <thead>\n",
       "    <tr style=\"text-align: right;\">\n",
       "      <th></th>\n",
       "      <th>mean_salary</th>\n",
       "    </tr>\n",
       "    <tr>\n",
       "      <th>job_state</th>\n",
       "      <th></th>\n",
       "    </tr>\n",
       "  </thead>\n",
       "  <tbody>\n",
       "    <tr>\n",
       "      <th>MI</th>\n",
       "      <td>360.000000</td>\n",
       "    </tr>\n",
       "    <tr>\n",
       "      <th>CA</th>\n",
       "      <td>128.669304</td>\n",
       "    </tr>\n",
       "    <tr>\n",
       "      <th>WA</th>\n",
       "      <td>128.290698</td>\n",
       "    </tr>\n",
       "    <tr>\n",
       "      <th>OR</th>\n",
       "      <td>119.000000</td>\n",
       "    </tr>\n",
       "    <tr>\n",
       "      <th>IL</th>\n",
       "      <td>117.656250</td>\n",
       "    </tr>\n",
       "    <tr>\n",
       "      <th>DC</th>\n",
       "      <td>116.500000</td>\n",
       "    </tr>\n",
       "    <tr>\n",
       "      <th>MO</th>\n",
       "      <td>115.500000</td>\n",
       "    </tr>\n",
       "    <tr>\n",
       "      <th>MD</th>\n",
       "      <td>111.564516</td>\n",
       "    </tr>\n",
       "    <tr>\n",
       "      <th>IN</th>\n",
       "      <td>109.000000</td>\n",
       "    </tr>\n",
       "    <tr>\n",
       "      <th>AZ</th>\n",
       "      <td>108.000000</td>\n",
       "    </tr>\n",
       "    <tr>\n",
       "      <th>MA</th>\n",
       "      <td>107.900000</td>\n",
       "    </tr>\n",
       "    <tr>\n",
       "      <th>TX</th>\n",
       "      <td>107.306452</td>\n",
       "    </tr>\n",
       "    <tr>\n",
       "      <th>WI</th>\n",
       "      <td>106.500000</td>\n",
       "    </tr>\n",
       "    <tr>\n",
       "      <th>OH</th>\n",
       "      <td>102.000000</td>\n",
       "    </tr>\n",
       "    <tr>\n",
       "      <th>TN</th>\n",
       "      <td>100.000000</td>\n",
       "    </tr>\n",
       "    <tr>\n",
       "      <th>NC</th>\n",
       "      <td>98.074074</td>\n",
       "    </tr>\n",
       "    <tr>\n",
       "      <th>IA</th>\n",
       "      <td>96.500000</td>\n",
       "    </tr>\n",
       "    <tr>\n",
       "      <th>FL</th>\n",
       "      <td>96.000000</td>\n",
       "    </tr>\n",
       "    <tr>\n",
       "      <th>NY</th>\n",
       "      <td>95.283163</td>\n",
       "    </tr>\n",
       "    <tr>\n",
       "      <th>NJ</th>\n",
       "      <td>93.500000</td>\n",
       "    </tr>\n",
       "    <tr>\n",
       "      <th>CT</th>\n",
       "      <td>89.734375</td>\n",
       "    </tr>\n",
       "    <tr>\n",
       "      <th>OK</th>\n",
       "      <td>80.500000</td>\n",
       "    </tr>\n",
       "    <tr>\n",
       "      <th>MN</th>\n",
       "      <td>80.000000</td>\n",
       "    </tr>\n",
       "    <tr>\n",
       "      <th>VA</th>\n",
       "      <td>70.000000</td>\n",
       "    </tr>\n",
       "    <tr>\n",
       "      <th>PA</th>\n",
       "      <td>64.884615</td>\n",
       "    </tr>\n",
       "    <tr>\n",
       "      <th>UT</th>\n",
       "      <td>60.548387</td>\n",
       "    </tr>\n",
       "    <tr>\n",
       "      <th>PR</th>\n",
       "      <td>43.000000</td>\n",
       "    </tr>\n",
       "  </tbody>\n",
       "</table>\n",
       "</div>"
      ],
      "text/plain": [
       "           mean_salary\n",
       "job_state             \n",
       " MI         360.000000\n",
       " CA         128.669304\n",
       " WA         128.290698\n",
       " OR         119.000000\n",
       " IL         117.656250\n",
       " DC         116.500000\n",
       " MO         115.500000\n",
       " MD         111.564516\n",
       " IN         109.000000\n",
       " AZ         108.000000\n",
       " MA         107.900000\n",
       " TX         107.306452\n",
       " WI         106.500000\n",
       " OH         102.000000\n",
       " TN         100.000000\n",
       " NC          98.074074\n",
       " IA          96.500000\n",
       " FL          96.000000\n",
       " NY          95.283163\n",
       " NJ          93.500000\n",
       " CT          89.734375\n",
       " OK          80.500000\n",
       " MN          80.000000\n",
       " VA          70.000000\n",
       " PA          64.884615\n",
       " UT          60.548387\n",
       " PR          43.000000"
      ]
     },
     "execution_count": 87,
     "metadata": {},
     "output_type": "execute_result"
    }
   ],
   "source": [
    "pd.pivot_table(df, index = [\"job_state\"], values = \"mean_salary\").sort_values(\"mean_salary\", ascending = False)"
   ]
  },
  {
   "cell_type": "code",
   "execution_count": null,
   "id": "10d42341",
   "metadata": {},
   "outputs": [],
   "source": []
  }
 ],
 "metadata": {
  "kernelspec": {
   "display_name": "Python 3 (ipykernel)",
   "language": "python",
   "name": "python3"
  },
  "language_info": {
   "codemirror_mode": {
    "name": "ipython",
    "version": 3
   },
   "file_extension": ".py",
   "mimetype": "text/x-python",
   "name": "python",
   "nbconvert_exporter": "python",
   "pygments_lexer": "ipython3",
   "version": "3.9.7"
  }
 },
 "nbformat": 4,
 "nbformat_minor": 5
}
